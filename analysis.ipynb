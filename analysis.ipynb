{
 "cells": [
  {
   "cell_type": "markdown",
   "metadata": {},
   "source": [
    "# Init"
   ]
  },
  {
   "cell_type": "code",
   "execution_count": null,
   "metadata": {},
   "outputs": [],
   "source": [
    "import pandas as pd\n",
    "import numpy as np\n",
    "import json\n",
    "\n",
    "from sklearn.preprocessing import LabelEncoder\n",
    "from sklearn.model_selection import train_test_split\n",
    "from sklearn.linear_model import LogisticRegression"
   ]
  },
  {
   "cell_type": "code",
   "execution_count": null,
   "metadata": {},
   "outputs": [],
   "source": [
    "FILE_PATH = '.\\\\data\\\\ratebeer.json'\n",
    "# TODO temporarily using smaller dataset so I can analyze results faster\n",
    "FILE_PATH = '.\\\\data\\\\beer_50000.json'\n",
    "\n",
    "f = open(FILE_PATH)\n",
    "dataset = []\n",
    "for l in f:\n",
    "    dataset.append(eval(l))"
   ]
  },
  {
   "cell_type": "code",
   "execution_count": null,
   "metadata": {},
   "outputs": [
    {
     "name": "stdout",
     "output_type": "stream",
     "text": [
      "Ales: 29\n",
      "Dark Ales: 8\n",
      "IPAs: 7\n",
      "Sakes: 12\n",
      "Fruit Beers: 5\n",
      "{'Lambic - Faro', 'Lambic - Gueuze', 'Smoked', 'Lambic - Fruit', 'Low Alcohol', 'Specialty Grain', 'Spice/Herb/Vegetable', 'Lambic - Unblended'}\n"
     ]
    },
    {
     "data": {
      "text/plain": [
       "''"
      ]
     },
     "execution_count": 67,
     "metadata": {},
     "output_type": "execute_result"
    }
   ],
   "source": [
    "# DESCRIPTIONS ARE ACCORDING TO CHATGPT (take with a grain of salt)\n",
    "\n",
    "\n",
    "ales = set() # ALE\n",
    "ipas = set() # A subset of ales\n",
    "dark_ales = set() # A subset of ales\n",
    "\n",
    "lagers = set() # LAGERs are different somehow? idek man\n",
    "\n",
    "sakes = set() # RICE BEER\n",
    "misc = set() #Beers I was unable to classify into a category\n",
    "\n",
    "# I don't know if this is a 'real' category but these are all fruit infused or based beers\n",
    "fruitbeers = set()\n",
    "\n",
    "# Not sure how to categorize the 'lambics'\n",
    "# MEAD IS ITS OWN CATEGORY OF ALCOHOL BUT I PUT IT INTO p_fruit cuz its sweet\n",
    "\n",
    "for d in dataset:\n",
    "    # presets based on ChatGPT categorizations\n",
    "    p_ales = ['Belgian White &#40;Witbier&#41;', 'Berliner Weisse', 'Bire de Garde', 'Saison', 'Schwarzbier', 'Abbey Dubbel', 'Abbey Tripel', 'Abt/Quadrupel', 'Altbier', 'Barley Wine', 'German Hefeweizen', 'German Kristallweizen', 'Weizen Bock']\n",
    "    p_paleales = ['Premium Bitter/ESB', 'Bitter',]\n",
    "    p_lagers = ['Dunkelweizen', 'Kölsch', 'Klsch', 'Eisbock', 'Malt Liquor', 'California Common', 'Doppelbock', 'Dunkel', 'Dunkler Bock', 'Dortmunder/Helles', 'Heller Bock', 'Oktoberfest/Mrzen', 'Vienna', 'Zwickel/Keller/Landbier']\n",
    "    p_fruit = ['Cider', 'Fruit Beer', 'Ice Cider/Perry', 'Perry', 'Mead']\n",
    "\n",
    "    if not d:\n",
    "        continue\n",
    "    s = d['beer/style']\n",
    "    if 'Pale Ale' in s or 'IPA' in s or s in p_paleales:\n",
    "        ipas.add(s)\n",
    "    elif 'Ale' in s or s in p_ales:\n",
    "        ales.add(s)\n",
    "    elif 'Stout' in s or 'Porter' in s:\n",
    "        dark_ales.add(s)\n",
    "    elif 'Lager' in s or 'Pilsener' in s or s in p_lagers:\n",
    "        lagers.add(s)\n",
    "    elif 'Sak' in s:\n",
    "        sakes.add(s)\n",
    "    elif s in p_fruit:\n",
    "        fruitbeers.add(s)\n",
    "    else:\n",
    "        misc.add(s)\n",
    "\n",
    "# print the size of each set\n",
    "print('Ales:', len(ales))\n",
    "print('Dark Ales:', len(dark_ales))\n",
    "print('IPAs:', len(ipas))\n",
    "print('Sakes:', len(sakes))\n",
    "print('Fruit Beers:', len(fruitbeers))\n",
    "\n",
    "print(misc)\n",
    "\n",
    "# TODO\n",
    "'''\n",
    "It is definitely worth looking into splitting up the 'ale' dataset into more specific categories.\n",
    "I haven't looked into the dataset enough but I assume the vast majority of beers fall under this category, \n",
    "unless we break it up or perform some model balancing I would expect it to be heavily biased towards this category.\n",
    "\n",
    "The same could possibly be said fo for the lagers category, but I'm not sure.\n",
    "\n",
    "If you are still stuck with an extremely low accuracy even with this tweak, I think it'd be a good idea that\n",
    "we look into other features. I still believe that identifying certain keywords in the text part of the review\n",
    "would work extremely well for this case.\n",
    "'''\n",
    "''"
   ]
  },
  {
   "cell_type": "code",
   "execution_count": 63,
   "metadata": {},
   "outputs": [
    {
     "data": {
      "text/plain": [
       "{'Bohemian Pilsener',\n",
       " 'Classic German Pilsener',\n",
       " 'Lambic - Faro',\n",
       " 'Lambic - Fruit',\n",
       " 'Lambic - Gueuze',\n",
       " 'Lambic - Unblended',\n",
       " 'Low Alcohol',\n",
       " 'Pilsener',\n",
       " 'Smoked',\n",
       " 'Specialty Grain',\n",
       " 'Spice/Herb/Vegetable'}"
      ]
     },
     "execution_count": 63,
     "metadata": {},
     "output_type": "execute_result"
    }
   ],
   "source": [
    "misc"
   ]
  },
  {
   "cell_type": "code",
   "execution_count": null,
   "metadata": {},
   "outputs": [
    {
     "name": "stdout",
     "output_type": "stream",
     "text": [
      "('India Pale Ale &#40;IPA&#41;', 185953)\n",
      "('Pale Lager', 145618)\n",
      "('Belgian Strong Ale', 123946)\n",
      "('Imperial Stout', 122223)\n",
      "('Imperial/Double IPA', 105672)\n"
     ]
    }
   ],
   "source": [
    "#TODO this isn't parsing right when using ratebeer.json\n",
    "# It throws a KeyError for styles that are not\n",
    "'''\n",
    "('India Pale Ale &#40;IPA&#41;', 185953)\n",
    "('Pale Lager', 145618)\n",
    "('Belgian Strong Ale', 123946)\n",
    "('Imperial Stout', 122223)\n",
    "('Imperial/Double IPA', 105672)\n",
    "'''\n",
    "k = 'beer/style'\n",
    "styles = {}\n",
    "for d in dataset:\n",
    "    try:\n",
    "        s = d[k]\n",
    "    except KeyError:\n",
    "        continue\n",
    "    if s in styles:\n",
    "        styles[s] +=1\n",
    "    else:\n",
    "        styles[s] = 1\n",
    "\n",
    "# sort styles\n",
    "sorted_styles = sorted(styles.items(), key=lambda x: x[1], reverse=True)\n",
    "for k in sorted_styles[:5]:\n",
    "    print(k)\n",
    "\n",
    "#TODO For proper classification we should probably group these together in some way?\n",
    "# I don't know how we would go about this, if it is as straightforward as 'all IPAs go into one group'"
   ]
  },
  {
   "cell_type": "code",
   "execution_count": null,
   "metadata": {},
   "outputs": [],
   "source": [
    "X, y = [], []\n",
    "for d in dataset:\n",
    "    f1 = d['review/appearance']\n",
    "    f2 = d['review/palate']\n",
    "    f3 = d['review/taste']\n",
    "    f4 = d['review/aroma']\n",
    "    X.append([f1, f2, f3, f4])\n",
    "\n",
    "    t = d['beer/style']\n",
    "    y.append(t)\n"
   ]
  },
  {
   "cell_type": "code",
   "execution_count": null,
   "metadata": {},
   "outputs": [],
   "source": [
    "le = LabelEncoder()\n",
    "y = le.fit_transform(y)"
   ]
  },
  {
   "cell_type": "code",
   "execution_count": null,
   "metadata": {},
   "outputs": [],
   "source": [
    "X_train, X_test, y_train, y_test = train_test_split(X, y, test_size=0.2)"
   ]
  },
  {
   "cell_type": "code",
   "execution_count": null,
   "metadata": {},
   "outputs": [],
   "source": [
    "model = LogisticRegression()\n",
    "model.fit(X_train, y_train)"
   ]
  }
 ],
 "metadata": {
  "kernelspec": {
   "display_name": "Python 3",
   "language": "python",
   "name": "python3"
  },
  "language_info": {
   "codemirror_mode": {
    "name": "ipython",
    "version": 3
   },
   "file_extension": ".py",
   "mimetype": "text/x-python",
   "name": "python",
   "nbconvert_exporter": "python",
   "pygments_lexer": "ipython3",
   "version": "3.11.9"
  }
 },
 "nbformat": 4,
 "nbformat_minor": 2
}
